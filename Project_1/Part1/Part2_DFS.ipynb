{
 "cells": [
  {
   "cell_type": "code",
   "execution_count": 15,
   "id": "49b54b03-a101-49bf-b02f-52eb6ecd02f9",
   "metadata": {},
   "outputs": [],
   "source": [
    "# Load maze and find all goals in the maze\n",
    "\n",
    "def loadMazeWithGoals(filename):     #defines the function to load the maze from a .lay file \n",
    "    file = open(filename, 'r')       #opens the specified file \n",
    "    a = 0                            #initializes variables to track the row number (a)\n",
    "    maze = []                        #the maze as a 2D list \n",
    "    start = []                       #Pacman's starting position \n",
    "    goals = []                       #goal positions \n",
    "\n",
    "\n",
    "    #following chunk of code reads a maze from a file and keeps track of where Pacman and the goals (marked as dots .) are located.\n",
    "    \n",
    "    for line in file:                #iterates through each line \n",
    "        b = 0                        #column index\n",
    "        maze.append([])              #creates a new row in the maze (eventually become a 2D grid where each element of the list corresponds to a character in the maze)     \n",
    "        for element in line:         #iterates through each element in line\n",
    "            if element != '\\n':      #ignore new line characters\n",
    "                maze[a].append(element)   \n",
    "                if element == 'P':    #when starting position (P) is found, the start list is updated \n",
    "                    start = [a, b]  \n",
    "                if element == '.':    #when a goal (.) is found, its cordinates are added to goals list\n",
    "                    goals.append([a, b]) \n",
    "            b += 1\n",
    "        a += 1\n",
    "    \n",
    "    file.close()  \n",
    "    return maze, start, goals \n",
    "\n",
    "# displaying the maze for visualization(optional?)\n",
    "def printMaze(maze):\n",
    "    from IPython.display import display, Markdown\n",
    "    maze_str = '\\n'.join(map(''.join, maze))\n",
    "    display(Markdown(f\"```{maze_str}```\"))"
   ]
  },
  {
   "cell_type": "code",
   "execution_count": 16,
   "id": "2e58691f-c41f-42a4-b258-bdb4da6025c3",
   "metadata": {},
   "outputs": [
    {
     "data": {
      "text/markdown": [
       "```%%%%%%%%%%%%%%%%%%%%%%\n",
       "% %%        % %      %\n",
       "%    %%%%%% % %%%%%% %\n",
       "%%%%%%     P  %      %\n",
       "%    % %%%%%% %% %%%%%\n",
       "% %%%% %         %   %\n",
       "%        %%% %%%   % %\n",
       "%%%%%%%%%%    %%%%%% %\n",
       "%.         %%        %\n",
       "%%%%%%%%%%%%%%%%%%%%%%```"
      ],
      "text/plain": [
       "<IPython.core.display.Markdown object>"
      ]
     },
     "metadata": {},
     "output_type": "display_data"
    }
   ],
   "source": [
    "maze, start, goals = loadMazeWithGoals('smallMaze.lay')\n",
    "printMaze(maze)"
   ]
  },
  {
   "cell_type": "code",
   "execution_count": 20,
   "id": "cb550bef-f9f5-4a62-b208-9990bc49708f",
   "metadata": {},
   "outputs": [],
   "source": [
    "#Helper Function to Find Neighbors\n",
    "# function finds all valid moves Pacman can make from its current position\n",
    "#and it returns a list of neighboring cells that are open (e.g  not walls) and haven’t been visited yet\n",
    "\n",
    "def neighborNodes(node, maze, visited):\n",
    "    directions = [            #defining of directions teh Pacman can move\n",
    "        (1, 0),   # down\n",
    "        (0, -1),  # left\n",
    "        (-1, 0),  # up\n",
    "        (0, 1)    # right\n",
    "    ]\n",
    "    \n",
    "    neighbors = []  # this list will store all valid neighboring nodes that Pacman can move to\n",
    "\n",
    "    #This loop iterates through each of the four possible directions \n",
    "    #and calculates coordinates (newNode) of the neighboring cell by adding the direction to the current node's coordinates\n",
    "    for direction in directions:\n",
    "        newNode = [node[0] + direction[0], node[1] + direction[1]]\n",
    "        if (0 <= newNode[0] < len(maze) and \n",
    "            0 <= newNode[1] < len(maze[0]) and \n",
    "            newNode not in visited and \n",
    "            maze[newNode[0]][newNode[1]] != '%'):\n",
    "            neighbors.append(newNode)\n",
    "    return neighbors"
   ]
  },
  {
   "cell_type": "code",
   "execution_count": 21,
   "id": "a3835dcd-0105-4bba-a943-932f12048caf",
   "metadata": {},
   "outputs": [],
   "source": [
    "#In Part 1, Pacman was only required to find a path from the startto  a single goal\n",
    "#In Part 2, the problem becomes more complex because there are multiple goals, and Pacman must \"eat all dots\"\n",
    "\n",
    "#Depth First Search for multiple goals\n",
    "def dfs_multiple_goals(filename):\n",
    "   \n",
    "    maze, start, all_goals = loadMazeWithGoals(filename)\n",
    "    \n",
    "    remaining_goals = all_goals.copy()  #holds a copy of all the goals that Pacman hasn't reached yet\n",
    "                                        #the search continues until remaining_goals is empty, meaning all goals have been visited\n",
    "    current_position = start\n",
    "    total_path = []                                      #initializing tracking variables\n",
    "    total_nodes_expanded = 0\n",
    "    total_max_depth = 0\n",
    "    total_fringe_size = 0\n",
    "    \n",
    "    #perform DFS for each goal\n",
    "    while remaining_goals:   #loop ensures that DFS is performed repeatedly, each time targeting the next goal\n",
    "        print(f\"Current position: {current_position}, Remaining goals: {len(remaining_goals)}\")  \n",
    "        finish = False   #flag to indicate whether the current goal has been reached\n",
    "        nodes = []     #tracking nodes expanded during this DFS run\n",
    "        path = []   # a list to store the path from Pacman's current position to the current goal\n",
    "        visited = [] #let us know which nodes have already been visited\n",
    "        frontier = [current_position]   #stack that stores the nodes to be explored, initialized with Pacman's current position\n",
    "        max_depth = 0\n",
    "        fringe = 0\n",
    "        current_goal = remaining_goals[0]\n",
    "\n",
    "        #main DFS loop\n",
    "        while (not finish and frontier):\n",
    "            # if goal state is reached, exit the loop\n",
    "            if frontier[-1] == current_goal:\n",
    "                path.append(frontier[-1])\n",
    "                max_depth = max(max_depth, len(path)-1)\n",
    "                finish = True\n",
    "                break\n",
    "            \n",
    "            node = frontier.pop()  #removes the current node from the stack \n",
    "            nodes.append(node)     #keep track of all expanded nodes\n",
    "            path.append(node)      #adds the node to the path being taken towards the goal.\n",
    "            max_depth = max(max_depth, len(path)-1)  #updates if the current depth is greater than the previous\n",
    "            \n",
    "            if node not in visited:         #checks if the node has been visited, if no -  it adds it to the visited list\n",
    "                visited.append(node)\n",
    "            \n",
    "            neighbors = neighborNodes(node, maze, visited)  #DFS explores each node by looking at its neighbors, moving deeply down one path before backtracking to explore others\n",
    "            if neighbors:\n",
    "                for neighbor in neighbors:\n",
    "                    frontier.append(neighbor)\n",
    "                    fringe = max(fringe, len(frontier))  #tracking fringe size helps analyze fficiency and memory use.\n",
    "            else:                                              #if there are no neighbors to explore, DFS backtracks by removing nodes from the path\n",
    "                while len(neighborNodes(path[-1], maze, visited)) == 0:\n",
    "                    path.pop()\n",
    "        \n",
    "        # update the maze with the path found\n",
    "        for point in path:\n",
    "            maze[point[0]][point[1]] = '.'\n",
    "        total_path.extend(path)\n",
    "        \n",
    "        # current goal as reached\n",
    "        remaining_goals.remove(current_goal)\n",
    "        current_position = current_goal\n",
    "        \n",
    "        # update statistics\n",
    "        total_nodes_expanded += len(nodes)\n",
    "        total_max_depth = max(total_max_depth, max_depth)\n",
    "        total_fringe_size = max(total_fringe_size, fringe)\n",
    "    \n",
    "    # print final solution\n",
    "    print('Final Solution Path:')\n",
    "    printMaze(maze)\n",
    "    print('Total nodes expanded: %d' % total_nodes_expanded)\n",
    "    print('Maximum tree depth searched: %d' % total_max_depth)\n",
    "    print('Maximum size of fringe: %d' % total_fringe_size)"
   ]
  },
  {
   "cell_type": "code",
   "execution_count": 22,
   "id": "21b7a7b7-cbda-4dca-a848-c042f1ee1449",
   "metadata": {},
   "outputs": [
    {
     "name": "stdout",
     "output_type": "stream",
     "text": [
      "Running DFS on tinySearch.lay...\n",
      "Current position: [3, 4], Remaining goals: 10\n",
      "Current position: [1, 1], Remaining goals: 9\n",
      "Current position: [1, 2], Remaining goals: 8\n",
      "Current position: [1, 6], Remaining goals: 7\n",
      "Current position: [1, 7], Remaining goals: 6\n",
      "Current position: [2, 4], Remaining goals: 5\n",
      "Current position: [4, 1], Remaining goals: 4\n",
      "Current position: [4, 7], Remaining goals: 3\n",
      "Current position: [5, 1], Remaining goals: 2\n",
      "Current position: [5, 3], Remaining goals: 1\n",
      "Final Solution Path:\n"
     ]
    },
    {
     "data": {
      "text/markdown": [
       "```%%%%%%%%%\n",
       "%.......%\n",
       "%%%%.%%.%\n",
       "%.......%\n",
       "%.%% %%.%\n",
       "%.%.....%\n",
       "%%%%%%%%%```"
      ],
      "text/plain": [
       "<IPython.core.display.Markdown object>"
      ]
     },
     "metadata": {},
     "output_type": "display_data"
    },
    {
     "name": "stdout",
     "output_type": "stream",
     "text": [
      "Total nodes expanded: 100\n",
      "Maximum tree depth searched: 16\n",
      "Maximum size of fringe: 6\n",
      "\n",
      "\n",
      "\n",
      "Running DFS on smallSearch.lay...\n",
      "Current position: [1, 16], Remaining goals: 17\n",
      "Current position: [1, 1], Remaining goals: 16\n",
      "Current position: [1, 13], Remaining goals: 15\n",
      "Current position: [1, 14], Remaining goals: 14\n",
      "Current position: [1, 15], Remaining goals: 13\n",
      "Current position: [1, 18], Remaining goals: 12\n",
      "Current position: [2, 1], Remaining goals: 11\n",
      "Current position: [2, 4], Remaining goals: 10\n",
      "Current position: [2, 7], Remaining goals: 9\n",
      "Current position: [2, 10], Remaining goals: 8\n",
      "Current position: [2, 13], Remaining goals: 7\n",
      "Current position: [2, 18], Remaining goals: 6\n",
      "Current position: [3, 6], Remaining goals: 5\n",
      "Current position: [3, 7], Remaining goals: 4\n",
      "Current position: [3, 8], Remaining goals: 3\n",
      "Current position: [3, 9], Remaining goals: 2\n",
      "Current position: [3, 10], Remaining goals: 1\n",
      "Final Solution Path:\n"
     ]
    },
    {
     "data": {
      "text/markdown": [
       "```%%%%%%%%%%%%%%%%%%%%\n",
       "%..................%\n",
       "%.%%.%%.%%.%%.%%.%.%\n",
       "% %% %...........%.%\n",
       "%%%%%%%%%%%%%%%%%%%%```"
      ],
      "text/plain": [
       "<IPython.core.display.Markdown object>"
      ]
     },
     "metadata": {},
     "output_type": "display_data"
    },
    {
     "name": "stdout",
     "output_type": "stream",
     "text": [
      "Total nodes expanded: 225\n",
      "Maximum tree depth searched: 28\n",
      "Maximum size of fringe: 8\n",
      "\n",
      "\n",
      "\n",
      "Running DFS on trickySearch.lay...\n",
      "Current position: [3, 9], Remaining goals: 13\n",
      "Current position: [1, 1], Remaining goals: 12\n",
      "Current position: [1, 13], Remaining goals: 11\n",
      "Current position: [1, 14], Remaining goals: 10\n",
      "Current position: [2, 1], Remaining goals: 9\n",
      "Current position: [2, 4], Remaining goals: 8\n",
      "Current position: [2, 7], Remaining goals: 7\n",
      "Current position: [2, 10], Remaining goals: 6\n",
      "Current position: [2, 13], Remaining goals: 5\n",
      "Current position: [5, 1], Remaining goals: 4\n",
      "Current position: [5, 2], Remaining goals: 3\n",
      "Current position: [5, 3], Remaining goals: 2\n",
      "Current position: [5, 4], Remaining goals: 1\n",
      "Final Solution Path:\n"
     ]
    },
    {
     "data": {
      "text/markdown": [
       "```%%%%%%%%%%%%%%%%%%%%\n",
       "%..............%...%\n",
       "%.%%.%%.%%.%%.%%.%.%\n",
       "%................%.%\n",
       "%%%%%%%%%%%%%%%%%%.%\n",
       "%..................%\n",
       "%%%%%%%%%%%%%%%%%%%%```"
      ],
      "text/plain": [
       "<IPython.core.display.Markdown object>"
      ]
     },
     "metadata": {},
     "output_type": "display_data"
    },
    {
     "name": "stdout",
     "output_type": "stream",
     "text": [
      "Total nodes expanded: 287\n",
      "Maximum tree depth searched: 55\n",
      "Maximum size of fringe: 8\n",
      "\n",
      "\n",
      "\n"
     ]
    }
   ],
   "source": [
    "# Run the DFS algorithm on the specified mazes for Part 2\n",
    "for mazefile in ['tinySearch.lay', 'smallSearch.lay', 'trickySearch.lay']:\n",
    "    print(f\"Running DFS on {mazefile}...\")\n",
    "    dfs_multiple_goals(mazefile)\n",
    "    print(\"\\n\\n\")\n",
    "\n"
   ]
  },
  {
   "cell_type": "code",
   "execution_count": null,
   "id": "45dc5cb2-4316-4e59-91f2-d7d15739d6ae",
   "metadata": {},
   "outputs": [],
   "source": []
  }
 ],
 "metadata": {
  "kernelspec": {
   "display_name": "Python 3 (ipykernel)",
   "language": "python",
   "name": "python3"
  },
  "language_info": {
   "codemirror_mode": {
    "name": "ipython",
    "version": 3
   },
   "file_extension": ".py",
   "mimetype": "text/x-python",
   "name": "python",
   "nbconvert_exporter": "python",
   "pygments_lexer": "ipython3",
   "version": "3.11.5"
  }
 },
 "nbformat": 4,
 "nbformat_minor": 5
}
